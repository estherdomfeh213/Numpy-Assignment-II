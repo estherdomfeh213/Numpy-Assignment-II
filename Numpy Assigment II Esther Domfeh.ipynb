{
 "cells": [
  {
   "cell_type": "markdown",
   "id": "b301b286",
   "metadata": {},
   "source": [
    "# NUMPY ASSIGNMENT II"
   ]
  },
  {
   "cell_type": "markdown",
   "id": "39417ab7",
   "metadata": {},
   "source": [
    "### Question 1: Write a NumPy program to create a vector of length 5 filled with arbitrary integers from 0 to 10. \\\n"
   ]
  },
  {
   "cell_type": "code",
   "execution_count": 16,
   "id": "03c67563",
   "metadata": {},
   "outputs": [
    {
     "name": "stdout",
     "output_type": "stream",
     "text": [
      "[ 6  0 10  8  1]\n"
     ]
    }
   ],
   "source": [
    "import numpy as np\n",
    "\n",
    "# Create a vector of length 5 filled with arbitrary integers from 0 to 10\n",
    "\n",
    "vector = np.random.randint(0, 11, size=5)\n",
    "\n",
    "\n",
    "print(vector)"
   ]
  },
  {
   "cell_type": "markdown",
   "id": "4cc9dc98",
   "metadata": {},
   "source": [
    "### Question 1: Write a NumPy program to create a vector with values ​​ranging from 15 to 55 and print all values​​except the first and last.\n"
   ]
  },
  {
   "cell_type": "code",
   "execution_count": 18,
   "id": "c60a0365",
   "metadata": {},
   "outputs": [
    {
     "name": "stdout",
     "output_type": "stream",
     "text": [
      "[16 17 18 19 20 21 22 23 24 25 26 27 28 29 30 31 32 33 34 35 36 37 38 39\n",
      " 40 41 42 43 44 45 46 47 48 49 50 51 52 53 54]\n"
     ]
    }
   ],
   "source": [
    "#vector with values ranging from 15 to 55\n",
    "\n",
    "vector = np.arange(15, 56)\n",
    "\n",
    "# print all values except the first and last\n",
    "\n",
    "print(vector[1:-1])"
   ]
  },
  {
   "cell_type": "markdown",
   "id": "f886ed4c",
   "metadata": {},
   "source": [
    "### Question 1:Write a NumPy program to create a random array with 1000 elements and compute the average, variance, standard deviation of the array elements. "
   ]
  },
  {
   "cell_type": "code",
   "execution_count": 33,
   "id": "ce57b735",
   "metadata": {},
   "outputs": [
    {
     "name": "stdout",
     "output_type": "stream",
     "text": [
      "Average: 0.501523869676229\n",
      "Variance: 0.08348042648526575\n",
      "Standard deviation: 0.2889297950805104\n"
     ]
    }
   ],
   "source": [
    "# a random array with 1000 elements\n",
    "array = np.random.rand(1000)\n",
    "\n",
    "# calculate the average\n",
    "avg = np.mean(array)\n",
    "\n",
    "# calcuate the variance\n",
    "var = np.var(array)\n",
    "\n",
    "# calculate the standard deviation\n",
    "std = np.std(array)\n",
    "\n",
    "print(\"Average:\", avg)\n",
    "print(\"Variance:\", var)\n",
    "print(\"Standard deviation:\", std)"
   ]
  },
  {
   "cell_type": "markdown",
   "id": "5e9b951d",
   "metadata": {},
   "source": [
    "### Question 1:Write a NumPy program to calculate cumulative sum of the elements along a given axis, sum over rows for each of the 3 columns and sum over columns for each of the 2 rows of a given 3x3 array"
   ]
  },
  {
   "cell_type": "code",
   "execution_count": 38,
   "id": "c6fb59f7",
   "metadata": {},
   "outputs": [
    {
     "name": "stdout",
     "output_type": "stream",
     "text": [
      "Original array:\n",
      " [[2 4 6]\n",
      " [1 3 8]\n",
      " [9 8 1]]\n",
      "Cumulative sum along axis 1:\n",
      " [[ 2  6 12]\n",
      " [ 1  4 12]\n",
      " [ 9 17 18]]\n",
      "Sum over rows for each of the 3 columns: [12 15 15]\n",
      "Sum over columns for each of the 2 rows: [12 12 18]\n"
     ]
    }
   ],
   "source": [
    "# create 3x3 array\n",
    "arr = np.array([[2, 4, 6],\n",
    "                [1, 3, 8],\n",
    "                [9, 8, 1]])\n",
    "\n",
    "# compute cumulative sum along axis 1 (rows)\n",
    "cumtsum_axis1 = np.cumsum(arr, axis=1)\n",
    "\n",
    "# computing the  sum over rows for each of the 3 columns\n",
    "sum_rows = np.sum(arr, axis=0)\n",
    "\n",
    "# calculating sum over columns for each of the 2 rows\n",
    "sum_cols = np.sum(arr, axis=1)\n",
    "\n",
    "print(\"Original array:\\n\", arr)\n",
    "print(\"Cumulative sum along axis 1:\\n\", cumtsum_axis1)\n",
    "print(\"Sum over rows for each of the 3 columns:\", sum_rows)\n",
    "print(\"Sum over columns for each of the 2 rows:\", sum_cols)"
   ]
  },
  {
   "cell_type": "markdown",
   "id": "e256607b",
   "metadata": {},
   "source": [
    "### Question 1:Write a NumPy program to compute the multiplication of two given matrixes. \n",
    "\n",
    "Sample Matrix: \n",
    "\n",
    "[[1, 0], [0, 1]] \n",
    "\n",
    "[[1, 2], [3, 4]] "
   ]
  },
  {
   "cell_type": "code",
   "execution_count": 40,
   "id": "d694452d",
   "metadata": {},
   "outputs": [
    {
     "name": "stdout",
     "output_type": "stream",
     "text": [
      "Matrix 1:\n",
      " [[1 0]\n",
      " [0 1]]\n",
      "Matrix 2:\n",
      " [[1 2]\n",
      " [3 4]]\n",
      "Result:\n",
      " [[1 2]\n",
      " [3 4]]\n"
     ]
    }
   ],
   "source": [
    "# defining the given  matrices\n",
    "matrix_1 = np.array([[1, 0], [0, 1]])\n",
    "matrix_2 = np.array([[1, 2], [3, 4]])\n",
    "\n",
    "# Compute the multiplication of the matrices\n",
    "reslt = np.dot(matrix_1, matrix_2)\n",
    "\n",
    "# Print the result\n",
    "print(\"Matrix 1:\\n\", matrix_1)\n",
    "print(\"Matrix 2:\\n\", matrix_2)\n",
    "print(\"Result:\\n\", reslt)"
   ]
  },
  {
   "cell_type": "code",
   "execution_count": null,
   "id": "5886c3b9",
   "metadata": {},
   "outputs": [],
   "source": []
  }
 ],
 "metadata": {
  "kernelspec": {
   "display_name": "Python 3 (ipykernel)",
   "language": "python",
   "name": "python3"
  },
  "language_info": {
   "codemirror_mode": {
    "name": "ipython",
    "version": 3
   },
   "file_extension": ".py",
   "mimetype": "text/x-python",
   "name": "python",
   "nbconvert_exporter": "python",
   "pygments_lexer": "ipython3",
   "version": "3.9.13"
  }
 },
 "nbformat": 4,
 "nbformat_minor": 5
}
